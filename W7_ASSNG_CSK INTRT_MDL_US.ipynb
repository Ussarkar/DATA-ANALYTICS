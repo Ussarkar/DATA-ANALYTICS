{
 "cells": [
  {
   "cell_type": "markdown",
   "id": "293e67cd",
   "metadata": {
    "id": "293e67cd"
   },
   "source": [
    "# Interactive Model - CSK vs GT"
   ]
  },
  {
   "cell_type": "code",
   "execution_count": 1,
   "id": "f1181563",
   "metadata": {
    "id": "f1181563"
   },
   "outputs": [],
   "source": [
    "import pandas as pd\n",
    "import numpy as np\n",
    "import math\n",
    "import matplotlib.pyplot as plt\n",
    "\n",
    "import warnings\n",
    "warnings.filterwarnings('ignore')\n",
    "\n",
    "pd.set_option('display.max_columns',None)\n",
    "\n"
   ]
  },
  {
   "cell_type": "code",
   "execution_count": 2,
   "id": "40a4953c",
   "metadata": {
    "id": "40a4953c",
    "outputId": "3c76141f-0e54-459d-a2ca-83b2b6ac9761"
   },
   "outputs": [
    {
     "data": {
      "text/plain": [
       "(243815, 22)"
      ]
     },
     "execution_count": 2,
     "metadata": {},
     "output_type": "execute_result"
    }
   ],
   "source": [
    "ipl_df =pd.read_csv('IPL_ball_by_ball_updated.csv')\n",
    "ipl_df.shape"
   ]
  },
  {
   "cell_type": "code",
   "execution_count": 3,
   "id": "7841ca14",
   "metadata": {
    "id": "7841ca14",
    "outputId": "a61b4eaf-148f-4b2f-eee3-332db9750b5c"
   },
   "outputs": [
    {
     "data": {
      "text/html": [
       "<div>\n",
       "<style scoped>\n",
       "    .dataframe tbody tr th:only-of-type {\n",
       "        vertical-align: middle;\n",
       "    }\n",
       "\n",
       "    .dataframe tbody tr th {\n",
       "        vertical-align: top;\n",
       "    }\n",
       "\n",
       "    .dataframe thead th {\n",
       "        text-align: right;\n",
       "    }\n",
       "</style>\n",
       "<table border=\"1\" class=\"dataframe\">\n",
       "  <thead>\n",
       "    <tr style=\"text-align: right;\">\n",
       "      <th></th>\n",
       "      <th>match_id</th>\n",
       "      <th>season</th>\n",
       "      <th>start_date</th>\n",
       "      <th>venue</th>\n",
       "      <th>innings</th>\n",
       "      <th>ball</th>\n",
       "      <th>batting_team</th>\n",
       "      <th>bowling_team</th>\n",
       "      <th>striker</th>\n",
       "      <th>non_striker</th>\n",
       "      <th>bowler</th>\n",
       "      <th>runs_off_bat</th>\n",
       "      <th>extras</th>\n",
       "      <th>wides</th>\n",
       "      <th>noballs</th>\n",
       "      <th>byes</th>\n",
       "      <th>legbyes</th>\n",
       "      <th>penalty</th>\n",
       "      <th>wicket_type</th>\n",
       "      <th>player_dismissed</th>\n",
       "      <th>other_wicket_type</th>\n",
       "      <th>other_player_dismissed</th>\n",
       "    </tr>\n",
       "  </thead>\n",
       "  <tbody>\n",
       "    <tr>\n",
       "      <th>0</th>\n",
       "      <td>335982</td>\n",
       "      <td>2008</td>\n",
       "      <td>2008-04-18</td>\n",
       "      <td>M Chinnaswamy Stadium</td>\n",
       "      <td>1</td>\n",
       "      <td>0.1</td>\n",
       "      <td>Kolkata Knight Riders</td>\n",
       "      <td>Royal Challengers Bangalore</td>\n",
       "      <td>SC Ganguly</td>\n",
       "      <td>BB McCullum</td>\n",
       "      <td>P Kumar</td>\n",
       "      <td>0</td>\n",
       "      <td>1</td>\n",
       "      <td>NaN</td>\n",
       "      <td>NaN</td>\n",
       "      <td>NaN</td>\n",
       "      <td>1.0</td>\n",
       "      <td>NaN</td>\n",
       "      <td>NaN</td>\n",
       "      <td>NaN</td>\n",
       "      <td>NaN</td>\n",
       "      <td>NaN</td>\n",
       "    </tr>\n",
       "    <tr>\n",
       "      <th>1</th>\n",
       "      <td>335982</td>\n",
       "      <td>2008</td>\n",
       "      <td>2008-04-18</td>\n",
       "      <td>M Chinnaswamy Stadium</td>\n",
       "      <td>1</td>\n",
       "      <td>0.2</td>\n",
       "      <td>Kolkata Knight Riders</td>\n",
       "      <td>Royal Challengers Bangalore</td>\n",
       "      <td>BB McCullum</td>\n",
       "      <td>SC Ganguly</td>\n",
       "      <td>P Kumar</td>\n",
       "      <td>0</td>\n",
       "      <td>0</td>\n",
       "      <td>NaN</td>\n",
       "      <td>NaN</td>\n",
       "      <td>NaN</td>\n",
       "      <td>NaN</td>\n",
       "      <td>NaN</td>\n",
       "      <td>NaN</td>\n",
       "      <td>NaN</td>\n",
       "      <td>NaN</td>\n",
       "      <td>NaN</td>\n",
       "    </tr>\n",
       "    <tr>\n",
       "      <th>2</th>\n",
       "      <td>335982</td>\n",
       "      <td>2008</td>\n",
       "      <td>2008-04-18</td>\n",
       "      <td>M Chinnaswamy Stadium</td>\n",
       "      <td>1</td>\n",
       "      <td>0.3</td>\n",
       "      <td>Kolkata Knight Riders</td>\n",
       "      <td>Royal Challengers Bangalore</td>\n",
       "      <td>BB McCullum</td>\n",
       "      <td>SC Ganguly</td>\n",
       "      <td>P Kumar</td>\n",
       "      <td>0</td>\n",
       "      <td>1</td>\n",
       "      <td>1.0</td>\n",
       "      <td>NaN</td>\n",
       "      <td>NaN</td>\n",
       "      <td>NaN</td>\n",
       "      <td>NaN</td>\n",
       "      <td>NaN</td>\n",
       "      <td>NaN</td>\n",
       "      <td>NaN</td>\n",
       "      <td>NaN</td>\n",
       "    </tr>\n",
       "  </tbody>\n",
       "</table>\n",
       "</div>"
      ],
      "text/plain": [
       "   match_id  season  start_date                  venue  innings  ball  \\\n",
       "0    335982    2008  2008-04-18  M Chinnaswamy Stadium        1   0.1   \n",
       "1    335982    2008  2008-04-18  M Chinnaswamy Stadium        1   0.2   \n",
       "2    335982    2008  2008-04-18  M Chinnaswamy Stadium        1   0.3   \n",
       "\n",
       "            batting_team                 bowling_team      striker  \\\n",
       "0  Kolkata Knight Riders  Royal Challengers Bangalore   SC Ganguly   \n",
       "1  Kolkata Knight Riders  Royal Challengers Bangalore  BB McCullum   \n",
       "2  Kolkata Knight Riders  Royal Challengers Bangalore  BB McCullum   \n",
       "\n",
       "   non_striker   bowler  runs_off_bat  extras  wides  noballs  byes  legbyes  \\\n",
       "0  BB McCullum  P Kumar             0       1    NaN      NaN   NaN      1.0   \n",
       "1   SC Ganguly  P Kumar             0       0    NaN      NaN   NaN      NaN   \n",
       "2   SC Ganguly  P Kumar             0       1    1.0      NaN   NaN      NaN   \n",
       "\n",
       "   penalty wicket_type player_dismissed  other_wicket_type  \\\n",
       "0      NaN         NaN              NaN                NaN   \n",
       "1      NaN         NaN              NaN                NaN   \n",
       "2      NaN         NaN              NaN                NaN   \n",
       "\n",
       "   other_player_dismissed  \n",
       "0                     NaN  \n",
       "1                     NaN  \n",
       "2                     NaN  "
      ]
     },
     "execution_count": 3,
     "metadata": {},
     "output_type": "execute_result"
    }
   ],
   "source": [
    "ipl_df.head(3)"
   ]
  },
  {
   "cell_type": "code",
   "execution_count": 4,
   "id": "0f533d40",
   "metadata": {
    "id": "0f533d40",
    "outputId": "fb3613db-c4e5-44b5-b910-ca18b912820d"
   },
   "outputs": [
    {
     "data": {
      "text/plain": [
       "Index(['match_id', 'season', 'start_date', 'venue', 'innings', 'ball',\n",
       "       'batting_team', 'bowling_team', 'striker', 'non_striker', 'bowler',\n",
       "       'runs_off_bat', 'extras', 'wides', 'noballs', 'byes', 'legbyes',\n",
       "       'penalty', 'wicket_type', 'player_dismissed', 'other_wicket_type',\n",
       "       'other_player_dismissed'],\n",
       "      dtype='object')"
      ]
     },
     "execution_count": 4,
     "metadata": {},
     "output_type": "execute_result"
    }
   ],
   "source": [
    "ipl_df.columns"
   ]
  },
  {
   "cell_type": "code",
   "execution_count": 5,
   "id": "b8d31d45",
   "metadata": {
    "id": "b8d31d45",
    "outputId": "77a9dc2a-81a3-454b-862c-f827c50397fe"
   },
   "outputs": [
    {
     "data": {
      "text/plain": [
       "array([2008, 2009, 2010, 2011, 2012, 2013, 2014, 2015, 2016, 2017, 2018,\n",
       "       2019, 2020, 2021, 2022, 2023], dtype=int64)"
      ]
     },
     "execution_count": 5,
     "metadata": {},
     "output_type": "execute_result"
    }
   ],
   "source": [
    "ipl_df.season.unique()"
   ]
  },
  {
   "cell_type": "code",
   "execution_count": 6,
   "id": "c3d8d970",
   "metadata": {
    "id": "c3d8d970",
    "outputId": "74ee2f6c-cd99-4600-9c46-1f1398e2dac2"
   },
   "outputs": [
    {
     "data": {
      "text/plain": [
       "array(['Kolkata Knight Riders', 'Royal Challengers Bangalore',\n",
       "       'Chennai Super Kings', 'Kings XI Punjab', 'Rajasthan Royals',\n",
       "       'Delhi Daredevils', 'Mumbai Indians', 'Deccan Chargers',\n",
       "       'Kochi Tuskers Kerala', 'Pune Warriors', 'Sunrisers Hyderabad',\n",
       "       'Rising Pune Supergiants', 'Gujarat Lions',\n",
       "       'Rising Pune Supergiant', 'Delhi Capitals', 'Punjab Kings',\n",
       "       'Lucknow Super Giants', 'Gujarat Titans'], dtype=object)"
      ]
     },
     "execution_count": 6,
     "metadata": {},
     "output_type": "execute_result"
    }
   ],
   "source": [
    "ipl_df.batting_team.unique()"
   ]
  },
  {
   "cell_type": "code",
   "execution_count": 7,
   "id": "b7e6ad98",
   "metadata": {
    "id": "b7e6ad98",
    "outputId": "2e12616e-4297-44c5-f5d0-53a1794798e7"
   },
   "outputs": [
    {
     "data": {
      "text/plain": [
       "array([1, 2, 3, 4, 5, 6], dtype=int64)"
      ]
     },
     "execution_count": 7,
     "metadata": {},
     "output_type": "execute_result"
    }
   ],
   "source": [
    "ipl_df.innings.unique()"
   ]
  },
  {
   "cell_type": "code",
   "execution_count": 8,
   "id": "27bd5ab7",
   "metadata": {
    "id": "27bd5ab7"
   },
   "outputs": [],
   "source": [
    "ipl_df = ipl_df[ipl_df.innings <3]"
   ]
  },
  {
   "cell_type": "code",
   "execution_count": 9,
   "id": "193881d8",
   "metadata": {
    "id": "193881d8",
    "outputId": "05cc8e67-0801-4272-f4dd-f6d2003a4b9f"
   },
   "outputs": [
    {
     "data": {
      "text/plain": [
       "array([1, 2], dtype=int64)"
      ]
     },
     "execution_count": 9,
     "metadata": {},
     "output_type": "execute_result"
    }
   ],
   "source": [
    "ipl_df.innings.unique()"
   ]
  },
  {
   "cell_type": "code",
   "execution_count": 10,
   "id": "4f992b90",
   "metadata": {
    "id": "4f992b90"
   },
   "outputs": [],
   "source": [
    "ipl_df['total_runs'] = ipl_df['runs_off_bat'] + ipl_df['extras']"
   ]
  },
  {
   "cell_type": "code",
   "execution_count": 11,
   "id": "e0ea58d9",
   "metadata": {
    "id": "e0ea58d9"
   },
   "outputs": [],
   "source": [
    "ipl_df = ipl_df.fillna(0)\n",
    "ipl_df['is_out'] = np.where(ipl_df['player_dismissed'] == 0,0,1)"
   ]
  },
  {
   "cell_type": "code",
   "execution_count": 12,
   "id": "e97968eb",
   "metadata": {
    "id": "e97968eb"
   },
   "outputs": [],
   "source": [
    "t1 = 'Gujarat Titans'\n",
    "t2 = 'Chennai Super Kings'\n",
    "\n",
    "outcomes = [0,1,2,3,4,6,'W']"
   ]
  },
  {
   "cell_type": "code",
   "execution_count": 13,
   "id": "903f09d7",
   "metadata": {
    "id": "903f09d7",
    "outputId": "c743f245-f6c4-4145-917c-18a15e1271fa"
   },
   "outputs": [
    {
     "data": {
      "text/plain": [
       "1    1796\n",
       "0    1208\n",
       "4     514\n",
       "2     277\n",
       "6     202\n",
       "5      13\n",
       "3       9\n",
       "7       1\n",
       "Name: total_runs, dtype: int64"
      ]
     },
     "execution_count": 13,
     "metadata": {},
     "output_type": "execute_result"
    }
   ],
   "source": [
    "ipl_df[ipl_df.batting_team == t1].total_runs.value_counts()"
   ]
  },
  {
   "cell_type": "code",
   "execution_count": 14,
   "id": "d28cb5a8",
   "metadata": {
    "id": "d28cb5a8",
    "outputId": "5065a0f9-472f-44ef-896c-a47a10ad7682"
   },
   "outputs": [
    {
     "data": {
      "text/plain": [
       "168"
      ]
     },
     "execution_count": 14,
     "metadata": {},
     "output_type": "execute_result"
    }
   ],
   "source": [
    "ipl_df[ipl_df.batting_team == t1].is_out.sum()"
   ]
  },
  {
   "cell_type": "code",
   "execution_count": 15,
   "id": "7c155b0b",
   "metadata": {
    "id": "7c155b0b"
   },
   "outputs": [],
   "source": [
    "t1_outcomes_count = ipl_df[ipl_df.batting_team == t1].total_runs.value_counts()\n",
    "t2_outcomes_count = ipl_df[ipl_df.batting_team == t2].total_runs.value_counts()"
   ]
  },
  {
   "cell_type": "code",
   "execution_count": 16,
   "id": "4c0c2817",
   "metadata": {
    "id": "4c0c2817"
   },
   "outputs": [],
   "source": [
    "t1_outs = ipl_df[ipl_df.batting_team == t1].is_out.sum()\n",
    "t2_outs = ipl_df[ipl_df.batting_team == t2].is_out.sum()"
   ]
  },
  {
   "cell_type": "code",
   "execution_count": 17,
   "id": "2213d3b0",
   "metadata": {
    "id": "2213d3b0"
   },
   "outputs": [],
   "source": [
    "t1_outcomes= []\n",
    "t2_outcomes = []\n",
    "\n",
    "for outcome in outcomes:\n",
    "    if outcome != \"W\":\n",
    "        t1_outcomes.append(t1_outcomes_count[outcome])\n",
    "        t2_outcomes.append(t2_outcomes_count[outcome])\n",
    "    else:\n",
    "        t1_outcomes.append(t1_outs)\n",
    "        t2_outcomes.append(t2_outs)"
   ]
  },
  {
   "cell_type": "code",
   "execution_count": 18,
   "id": "077c2d69",
   "metadata": {
    "id": "077c2d69"
   },
   "outputs": [],
   "source": [
    "#Fetch Probability Values\n",
    "\n",
    "t1_prob = np.round(t1_outcomes/sum(t1_outcomes),5)\n",
    "t2_prob = np.round(t2_outcomes/sum(t2_outcomes),5)"
   ]
  },
  {
   "cell_type": "code",
   "execution_count": 19,
   "id": "7cb412e2",
   "metadata": {
    "id": "7cb412e2",
    "outputId": "3ceb0bde-fa82-4724-cade-6d33e399a2b7"
   },
   "outputs": [
    {
     "data": {
      "text/plain": [
       "array([0.28941, 0.43028, 0.06636, 0.00216, 0.12314, 0.04839, 0.04025])"
      ]
     },
     "execution_count": 19,
     "metadata": {},
     "output_type": "execute_result"
    }
   ],
   "source": [
    "t1_prob"
   ]
  },
  {
   "cell_type": "code",
   "execution_count": 20,
   "id": "9d1efa8c",
   "metadata": {
    "id": "9d1efa8c",
    "outputId": "d6517c29-791c-4941-cfc8-3360eea3592a"
   },
   "outputs": [
    {
     "data": {
      "text/plain": [
       "array([0.3271 , 0.40425, 0.06559, 0.00378, 0.10804, 0.04965, 0.04159])"
      ]
     },
     "execution_count": 20,
     "metadata": {},
     "output_type": "execute_result"
    }
   ],
   "source": [
    "t2_prob"
   ]
  },
  {
   "cell_type": "code",
   "execution_count": 21,
   "id": "9059127f",
   "metadata": {
    "id": "9059127f"
   },
   "outputs": [],
   "source": [
    "#Fetch Probability Values\n",
    "\n",
    "t1_prob = [0.30416, 0.43178, 0.06064, 0.00098, 0.12372, 0.03863, 0.0401 ]\n",
    "t2_prob = [0.33114, 0.40203, 0.06523, 0.00375, 0.10816, 0.04814, 0.04156]"
   ]
  },
  {
   "cell_type": "code",
   "execution_count": 22,
   "id": "d385d493",
   "metadata": {
    "id": "d385d493"
   },
   "outputs": [],
   "source": [
    "def get_pbvalues(teamName):\n",
    "    if teamName == \"GT\":\n",
    "        p_0 = t1_prob[0]\n",
    "        p_1 = t1_prob[0] + t1_prob[1]\n",
    "        p_2 = t1_prob[0] + t1_prob[1] + t1_prob[2]\n",
    "        p_3 = t1_prob[0] + t1_prob[1] + t1_prob[2] + t1_prob[3]\n",
    "        p_4 = t1_prob[0] + t1_prob[1] + t1_prob[2] + t1_prob[3] + t1_prob[4]\n",
    "        p_6 = t1_prob[0] + t1_prob[1] + t1_prob[2] + t1_prob[3] + t1_prob[4] + t1_prob[5]\n",
    "        p_w = 1\n",
    "\n",
    "    elif teamName == \"CSK\":\n",
    "        p_0 = t2_prob[0]\n",
    "        p_1 = t2_prob[0] + t2_prob[1]\n",
    "        p_2 = t2_prob[0] + t2_prob[1] + t2_prob[2]\n",
    "        p_3 = t2_prob[0] + t2_prob[1] + t2_prob[2] + t2_prob[3]\n",
    "        p_4 = t2_prob[0] + t2_prob[1] + t2_prob[2] + t2_prob[3] + t2_prob[4]\n",
    "        p_6 = t2_prob[0] + t2_prob[1] + t2_prob[2] + t2_prob[3] + t2_prob[4] + t2_prob[5]\n",
    "        p_w = 1\n",
    "\n",
    "    return p_0,p_1,p_2,p_3,p_4,p_6,p_w"
   ]
  },
  {
   "cell_type": "code",
   "execution_count": 23,
   "id": "b1b05e58",
   "metadata": {
    "id": "b1b05e58"
   },
   "outputs": [],
   "source": [
    "def predict_runs(target,current_score,current_wickets,current_overs):\n",
    "    #PB values of both team\n",
    "    i1p_0, i1p_1, i1p_2, i1p_3, i1p_4, i1p_6, i1p_w  = get_pbvalues(\"GT\")\n",
    "    i2p_0, i2p_1, i2p_2, i2p_3, i2p_4, i2p_6, i2p_w  = get_pbvalues(\"CSK\")\n",
    "\n",
    "    pred_runs = current_score\n",
    "    pred_wks = current_wickets\n",
    "    leftover_balls = 120 - current_overs*6\n",
    "\n",
    "    for i in range(leftover_balls):\n",
    "        r_value = np.random.random()\n",
    "\n",
    "        if r_value <= i2p_0:\n",
    "            pred_runs = pred_runs+0\n",
    "\n",
    "        elif r_value <= i2p_1:\n",
    "            pred_runs = pred_runs+1\n",
    "        elif r_value <= i2p_2:\n",
    "            pred_runs = pred_runs+2\n",
    "        elif r_value <= i2p_3:\n",
    "            pred_runs = pred_runs+3\n",
    "        elif r_value <= i2p_4:\n",
    "            pred_runs = pred_runs+4\n",
    "        elif r_value <= i2p_6:\n",
    "            pred_runs = pred_runs+6\n",
    "        else:\n",
    "            pred_runs = pred_runs+0\n",
    "            pred_wks = pred_wks+1\n",
    "            if pred_wks == 10:\n",
    "                break\n",
    "        if pred_runs >= target:\n",
    "            break\n",
    "\n",
    "    return pred_runs\n"
   ]
  },
  {
   "cell_type": "code",
   "execution_count": 24,
   "id": "93d15765",
   "metadata": {
    "id": "93d15765",
    "outputId": "0a3ccbfb-ed42-4d31-bfb9-9311f1246e2b"
   },
   "outputs": [
    {
     "data": {
      "text/plain": [
       "170"
      ]
     },
     "execution_count": 24,
     "metadata": {},
     "output_type": "execute_result"
    }
   ],
   "source": [
    "predict_runs(300,0,0,0)"
   ]
  },
  {
   "cell_type": "markdown",
   "id": "8be423ff",
   "metadata": {
    "id": "8be423ff"
   },
   "source": [
    "### Winner Function"
   ]
  },
  {
   "cell_type": "code",
   "execution_count": 25,
   "id": "1f816406",
   "metadata": {
    "id": "1f816406"
   },
   "outputs": [],
   "source": [
    "def get_win(pred_runs,target):\n",
    "    if pred_runs >= target:\n",
    "        return 'win'\n",
    "    elif pred_runs == target-1:\n",
    "        return 'tie'\n",
    "    else:\n",
    "        return 'lose'"
   ]
  },
  {
   "cell_type": "code",
   "execution_count": 26,
   "id": "89b9c687",
   "metadata": {
    "id": "89b9c687"
   },
   "outputs": [],
   "source": [
    "target = 167\n",
    "current_score = 87\n",
    "current_wickets = 1\n",
    "current_overs = 10\n",
    "\n",
    "iter_count = 100\n",
    "\n",
    "runs_ls = []\n",
    "results_ls = []\n",
    "\n",
    "win_count = 0\n",
    "tie_count = 0\n",
    "lose_count = 0\n",
    "\n",
    "\n",
    "for i in range(iter_count):\n",
    "    pred_runs = predict_runs(target,current_score,current_wickets,current_overs)\n",
    "    runs_ls.append(runs_ls)\n",
    "    result_pred = get_win(pred_runs,target)\n",
    "    results_ls.append(result_pred)\n",
    "\n",
    "    if result_pred == 'win':\n",
    "        win_count = win_count + 1\n",
    "    elif result_pred == 'tie':\n",
    "        tie_count = tie_count + 1\n",
    "    else:\n",
    "        lose_count = lose_count + 1\n"
   ]
  },
  {
   "cell_type": "code",
   "execution_count": 27,
   "id": "8c5aa545",
   "metadata": {
    "id": "8c5aa545",
    "outputId": "43d90d5f-3645-4c4e-dbc9-78aa8815e3b9"
   },
   "outputs": [
    {
     "data": {
      "text/plain": [
       "(38, 3, 59)"
      ]
     },
     "execution_count": 27,
     "metadata": {},
     "output_type": "execute_result"
    }
   ],
   "source": [
    "win_count,tie_count,lose_count"
   ]
  },
  {
   "cell_type": "markdown",
   "id": "2ab0d43e",
   "metadata": {
    "id": "2ab0d43e"
   },
   "source": [
    "### Find Out Runs at requierd stage"
   ]
  },
  {
   "cell_type": "code",
   "execution_count": 28,
   "id": "ea4106dc",
   "metadata": {
    "id": "ea4106dc"
   },
   "outputs": [],
   "source": [
    "def find_runs(current_score,target,current_wickets,at_overs):\n",
    "    runs_ls = []\n",
    "    results_ls = []\n",
    "\n",
    "    req_runs = []\n",
    "    win_ls = []\n",
    "\n",
    "    for i in range(current_score,target+1):\n",
    "        win_count = 0\n",
    "        tie_count = 0\n",
    "        lose_count = 0\n",
    "\n",
    "        for j in range(100):\n",
    "            pred_runs = predict_runs(target,i,current_wickets,at_overs)\n",
    "            runs_ls.append(pred_runs)\n",
    "            result_pred = get_win(pred_runs,target)\n",
    "            results_ls.append(result_pred)\n",
    "\n",
    "            if result_pred == 'win':\n",
    "                win_count = win_count + 1\n",
    "            elif result_pred == 'tie':\n",
    "                tie_count = tie_count + 1\n",
    "            else:\n",
    "                lose_count = lose_count + 1\n",
    "\n",
    "            win_ls.append(win_count)\n",
    "            req_runs.append(i)\n",
    "\n",
    "    requiered_runs = current_score\n",
    "    for i in range(len(req_runs)):\n",
    "        if win_ls[i] >=50:\n",
    "            requiered_runs=req_runs[i]\n",
    "            break\n",
    "\n",
    "    return requiered_runs"
   ]
  },
  {
   "cell_type": "code",
   "execution_count": 29,
   "id": "ff03fcb2",
   "metadata": {
    "id": "ff03fcb2",
    "outputId": "28aedea9-830c-4760-f1c1-785c1f0de5e2"
   },
   "outputs": [
    {
     "data": {
      "text/plain": [
       "143"
      ]
     },
     "execution_count": 29,
     "metadata": {},
     "output_type": "execute_result"
    }
   ],
   "source": [
    "find_runs(87,167,1,17)"
   ]
  },
  {
   "cell_type": "markdown",
   "id": "9b9364ba",
   "metadata": {
    "id": "9b9364ba"
   },
   "source": [
    "### Find wicket afford to lsose"
   ]
  },
  {
   "cell_type": "code",
   "execution_count": 30,
   "id": "98bbdcd2",
   "metadata": {
    "id": "98bbdcd2"
   },
   "outputs": [],
   "source": [
    "def find_wickets(current_score,target,current_wickets,at_overs):\n",
    "\n",
    "    req_runs = find_runs(current_score,target,current_wickets,at_overs)\n",
    "    runs_ls = []\n",
    "    results_ls = []\n",
    "\n",
    "    req_wks = []\n",
    "    win_ls = []\n",
    "\n",
    "    for i in range(current_wickets,10):\n",
    "        win_count = 0\n",
    "        tie_count = 0\n",
    "        lose_count = 0\n",
    "\n",
    "        for j in range(100):\n",
    "            pred_runs = predict_runs(target,current_score,i,at_overs)\n",
    "            runs_ls.append(pred_runs)\n",
    "            result_pred = get_win(pred_runs,target)\n",
    "            results_ls.append(result_pred)\n",
    "\n",
    "            if result_pred == 'win':\n",
    "                win_count = win_count + 1\n",
    "            elif result_pred == 'tie':\n",
    "                tie_count = tie_count + 1\n",
    "            else:\n",
    "                lose_count = lose_count + 1\n",
    "\n",
    "        win_ls.append(win_count)\n",
    "        req_wks.append(i)\n",
    "        #print(i,win_count)\n",
    "\n",
    "    requiered_wickets = current_wickets\n",
    "    for i in range(len(req_wks)):\n",
    "        if win_ls[i] <45:\n",
    "            requiered_wickets=req_wks[i]\n",
    "            break\n",
    "\n",
    "    return requiered_wickets"
   ]
  },
  {
   "cell_type": "code",
   "execution_count": 31,
   "id": "76dacabc",
   "metadata": {
    "id": "76dacabc",
    "outputId": "029c202f-2e24-4de3-81b7-661547c81224"
   },
   "outputs": [
    {
     "data": {
      "text/plain": [
       "8"
      ]
     },
     "execution_count": 31,
     "metadata": {},
     "output_type": "execute_result"
    }
   ],
   "source": [
    "find_wickets(129,167,1,15)"
   ]
  },
  {
   "cell_type": "markdown",
   "id": "c8b0033e",
   "metadata": {
    "id": "c8b0033e"
   },
   "source": [
    "### Function : Interactive Chart"
   ]
  },
  {
   "cell_type": "code",
   "execution_count": 35,
   "id": "d3edc841",
   "metadata": {
    "id": "d3edc841"
   },
   "outputs": [],
   "source": [
    "%matplotlib inline\n",
    "from ipywidgets import interactive\n",
    "import ipywidgets as widgets\n",
    "import matplotlib.pyplot as plt\n",
    "import numpy as np\n",
    "\n",
    "def find_runs_wickets(current_wks,at_overs,target_score):\n",
    "    plt.figure(figsize = (16,6))\n",
    "    x = np.array(list(range(21)))\n",
    "    req_value = find_runs(100,target_score,current_wks,at_overs)\n",
    "    req_wk_value = find_wickets(87,target_score,current_wks,at_overs)\n",
    "\n",
    "    if at_overs == 10:\n",
    "        req_value = 100\n",
    "        req_wk_value = 2\n",
    "\n",
    "    y = np.array([req_value for i in range(21)])\n",
    "\n",
    "    plt.scatter(at_overs,req_value,s = 1200,color = 'red')\n",
    "    plt.axhline(target_score,ls =\"--\",color = 'blue')\n",
    "    plt.text(1,target_score+10,'Target Score :' + str(target_score), color = 'darkblue',fontsize = 13)\n",
    "    plt.ylim(50,target_score+50)\n",
    "    plt.xticks(x)\n",
    "    plt.text(at_overs,req_value,str(req_value) + '/' + str(req_wk_value)+ 'after'+ str(at_overs))\n",
    "    plt.show()"
   ]
  },
  {
   "cell_type": "code",
   "execution_count": 36,
   "id": "b28f19e2",
   "metadata": {
    "colab": {
     "referenced_widgets": [
      "730b4dd9787446bfa7291b9587e3d442"
     ]
    },
    "id": "b28f19e2",
    "outputId": "38d8d4ae-a413-49a9-e994-f4b938114851"
   },
   "outputs": [
    {
     "name": "stdout",
     "output_type": "stream",
     "text": [
      "Current_score = CSK : 100/1 ( 10 Overs)\n",
      "\n"
     ]
    },
    {
     "data": {
      "application/vnd.jupyter.widget-view+json": {
       "model_id": "a270cba9e2154302bb3a0ded465f7b49",
       "version_major": 2,
       "version_minor": 0
      },
      "text/plain": [
       "interactive(children=(IntSlider(value=1, description='current_wks', max=10, min=1), IntSlider(value=10, descri…"
      ]
     },
     "execution_count": 36,
     "metadata": {},
     "output_type": "execute_result"
    }
   ],
   "source": [
    "print('Current_score = CSK : 100/1 ( 10 Overs)')\n",
    "print('')\n",
    "interactive_plot = interactive(find_runs_wickets,\n",
    "                              current_wks = widgets.IntSlider(min=1,max=10,step=1,value=1),\n",
    "                              at_overs = widgets.IntSlider(min=10,max=20,step=1,value=1),\n",
    "                              target_score = widgets.IntSlider(min=0,max=250,step=1,value=167))\n",
    "\n",
    "output = interactive_plot.children[-1]\n",
    "output.layout.height = '450px'\n",
    "interactive_plot"
   ]
  },
  {
   "cell_type": "code",
   "execution_count": null,
   "id": "b7a6299b",
   "metadata": {
    "id": "b7a6299b"
   },
   "outputs": [],
   "source": []
  },
  {
   "cell_type": "code",
   "execution_count": null,
   "id": "9a8f93fb",
   "metadata": {
    "id": "9a8f93fb"
   },
   "outputs": [],
   "source": []
  }
 ],
 "metadata": {
  "colab": {
   "provenance": []
  },
  "kernelspec": {
   "display_name": "Python 3 (ipykernel)",
   "language": "python",
   "name": "python3"
  },
  "language_info": {
   "codemirror_mode": {
    "name": "ipython",
    "version": 3
   },
   "file_extension": ".py",
   "mimetype": "text/x-python",
   "name": "python",
   "nbconvert_exporter": "python",
   "pygments_lexer": "ipython3",
   "version": "3.11.4"
  }
 },
 "nbformat": 4,
 "nbformat_minor": 5
}
